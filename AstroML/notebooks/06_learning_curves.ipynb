{
 "cells": [
  {
   "cell_type": "markdown",
   "metadata": {},
   "source": [
    "# Learning Curves: Exploring the Bias-Variance Tradeoff"
   ]
  },
  {
   "cell_type": "markdown",
   "metadata": {},
   "source": [
    "In practice, much of the task of machine learning involves selecting algorithms,\n",
    "parameters, and sets of data to optimize the results of the method. All of these\n",
    "things can affect the quality of the results, but it’s not always clear which is\n",
    "best. For example, if your results have an error that’s larger than you hoped,\n",
    "you might imagine that increasing the training set size will always lead to better\n",
    "results. But this is not the case! Below, we’ll explore the reasons for this.\n",
    "Much of the material in this section was adapted from Andrew Ng’s excellent set\n",
    "of machine learning video lectures. See http://www.ml-class.org.\n",
    "\n",
    "In this section we’ll work with an extremely simple learning model: polynomial\n",
    "regression. This simply fits a polynomial of degree d to the data: if d = 1,\n",
    "then it is simple linear regression.\n",
    "First we'll ensure that we're in pylab mode, with figures being displayed inline:"
   ]
  },
  {
   "cell_type": "code",
   "execution_count": null,
   "metadata": {
    "collapsed": false
   },
   "outputs": [],
   "source": [
    "%pylab inline"
   ]
  },
  {
   "cell_type": "markdown",
   "metadata": {},
   "source": [
    "Polynomial regression can be done with the functions ``polyfit``\n",
    "and ``polyval``, available in ``numpy``. For example:"
   ]
  },
  {
   "cell_type": "code",
   "execution_count": null,
   "metadata": {
    "collapsed": false
   },
   "outputs": [],
   "source": [
    "import numpy as np\n",
    "np.random.seed(42)\n",
    "x = np.random.random(20)\n",
    "y = np.sin(2 * x)\n",
    "p = np.polyfit(x, y, 1)  # fit a 1st-degree polynomial (i.e. a line) to the data\n",
    "print(p)  # slope and intercept"
   ]
  },
  {
   "cell_type": "code",
   "execution_count": null,
   "metadata": {
    "collapsed": false
   },
   "outputs": [],
   "source": [
    "x_new = np.random.random(3)\n",
    "y_new = np.polyval(p, x_new)  # evaluate the polynomial at x_new\n",
    "print(abs(np.sin(x_new) - y_new))"
   ]
  },
  {
   "cell_type": "markdown",
   "metadata": {},
   "source": [
    "Using a 1st-degree polynomial fit (that is, fitting a straight line to x and y),\n",
    "we predicted the value of y for a new input. This prediction has an absolute\n",
    "error of about 0.2 for the few test points which we tried. We can visualize\n",
    "the fit with the following function:"
   ]
  },
  {
   "cell_type": "code",
   "execution_count": null,
   "metadata": {
    "collapsed": false
   },
   "outputs": [],
   "source": [
    "import pylab as pl\n",
    "def plot_fit(x, y, p):\n",
    "    xfit = np.linspace(0, 1, 1000)\n",
    "    yfit = np.polyval(p, xfit)\n",
    "    pl.scatter(x, y, c='k')\n",
    "    pl.plot(xfit, yfit)\n",
    "    pl.xlabel('x')\n",
    "    pl.ylabel('y')\n",
    "    \n",
    "plot_fit(x, y, p)"
   ]
  },
  {
   "cell_type": "markdown",
   "metadata": {},
   "source": [
    "When the error of predicted results is larger than desired,\n",
    "there are a few courses of action that can be taken:\n",
    "\n",
    "1. Increase the number of training points N. This might give us a\n",
    "   training set with more coverage, and lead to greater accuracy.\n",
    "2. Increase the degree d of the polynomial. This might allow us to\n",
    "   more closely fit the training data, and lead to a better result\n",
    "3. Add more features. If we were to, for example, perform a linear\n",
    "   regression using $x$, $\\sqrt{x}$, $x^{-1}$, or other functions, we might\n",
    "   hit on a functional form which can better be mapped to the value of y.\n",
    "\n",
    "The best course to take will vary from situation to situation, and from\n",
    "problem to problem. In this situation, number 2 and 3 may be useful, but\n",
    "number 1 will certainly not help: our model does not intrinsically fit the\n",
    "data very well. In machine learning terms, we say that it has high bias\n",
    "and that the data is *under-fit*. The ability to quickly figure out how\n",
    "to tune and improve your model is what separates good machine learning\n",
    "practitioners from the bad ones. In this section we’ll discuss some tools\n",
    "that can help determine which course is most likely to lead to good results."
   ]
  },
  {
   "cell_type": "markdown",
   "metadata": {},
   "source": [
    "## Bias, Variance, Overfitting, and Underfitting"
   ]
  },
  {
   "cell_type": "markdown",
   "metadata": {},
   "source": [
    "We’ll work with a simple example. Imagine that you would like to build\n",
    "an algorithm which will predict the price of a house given its size.\n",
    "Naively, we’d expect that the cost of a house grows as the size increases,\n",
    "but there are many other factors which can contribute. Imagine we approach\n",
    "this problem with the polynomial regression discussed above. We can tune\n",
    "the degree $d$ to try to get the best fit.\n",
    "\n",
    "First let's define some utility functions:"
   ]
  },
  {
   "cell_type": "code",
   "execution_count": null,
   "metadata": {
    "collapsed": false
   },
   "outputs": [],
   "source": [
    "def test_func(x, err=0.5):\n",
    "    return np.random.normal(10 - 1. / (x + 0.1), err)\n",
    "\n",
    "def compute_error(x, y, p):\n",
    "    yfit = np.polyval(p, x)\n",
    "    return np.sqrt(np.mean((y - yfit) ** 2))"
   ]
  },
  {
   "cell_type": "markdown",
   "metadata": {},
   "source": [
    "Run the following code to produce an example plot:"
   ]
  },
  {
   "cell_type": "code",
   "execution_count": null,
   "metadata": {
    "collapsed": false
   },
   "outputs": [],
   "source": [
    "N = 8\n",
    "np.random.seed(42)\n",
    "x = 10 ** np.linspace(-2, 0, N)\n",
    "y = test_func(x)\n",
    "\n",
    "xfit = np.linspace(-0.2, 1.2, 1000)\n",
    "\n",
    "titles = ['d = 1 (under-fit)', 'd = 2', 'd = 6 (over-fit)']\n",
    "degrees = [1, 2, 6]\n",
    "\n",
    "pl.figure(figsize = (9, 3.5))\n",
    "pl.subplots_adjust(left = 0.06, right=0.98,\n",
    "                   bottom=0.15, top=0.85,\n",
    "                   wspace=0.05)\n",
    "for i, d in enumerate(degrees):\n",
    "    pl.subplot(131 + i, xticks=[], yticks=[])\n",
    "    pl.scatter(x, y, marker='x', c='k', s=50)\n",
    "\n",
    "    p = np.polyfit(x, y, d)\n",
    "    yfit = np.polyval(p, xfit)\n",
    "    pl.plot(xfit, yfit, '-b')\n",
    "    \n",
    "    pl.xlim(-0.2, 1.2)\n",
    "    pl.ylim(0, 12)\n",
    "    pl.xlabel('house size')\n",
    "    if i == 0:\n",
    "        pl.ylabel('price')\n",
    "\n",
    "    pl.title(titles[i])"
   ]
  },
  {
   "cell_type": "markdown",
   "metadata": {},
   "source": [
    "In the above figure, we see fits for three different values of $d$.\n",
    "For $d = 1$, the data is under-fit. This means that the model is too\n",
    "simplistic: no straight line will ever be a good fit to this data. In\n",
    "this case, we say that the model suffers from high bias. The model\n",
    "itself is biased, and this will be reflected in the fact that the data\n",
    "is poorly fit. At the other extreme, for $d = 6$ the data is over-fit.\n",
    "This means that the model has too many free parameters (6 in this case)\n",
    "which can be adjusted to perfectly fit the training data. If we add a\n",
    "new point to this plot, though, chances are it will be very far from\n",
    "the curve representing the degree-6 fit. In this case, we say that the\n",
    "model suffers from high variance. The reason for this label is that if\n",
    "any of the input points are varied slightly, it could result in an\n",
    "extremely different model.\n",
    "\n",
    "In the middle, for $d = 2$, we have found a good mid-point. It fits\n",
    "the data fairly well, and does not suffer from the bias and variance\n",
    "problems seen in the figures on either side. What we would like is a\n",
    "way to quantitatively identify bias and variance, and optimize the\n",
    "metaparameters (in this case, the polynomial degree d) in order to\n",
    "determine the best algorithm. This can be done through a process\n",
    "called cross-validation."
   ]
  },
  {
   "cell_type": "markdown",
   "metadata": {},
   "source": [
    "## Cross-validation and Testing"
   ]
  },
  {
   "cell_type": "markdown",
   "metadata": {},
   "source": [
    "Let's start by defining a new dataset which we can use to explore\n",
    "cross-validation.  We will use a simple x vs. y regression estimator\n",
    "for ease of visualization, but the concepts also readily apply to\n",
    "more complicated datasets and models."
   ]
  },
  {
   "cell_type": "code",
   "execution_count": null,
   "metadata": {
    "collapsed": false
   },
   "outputs": [],
   "source": [
    "Ntrain = 100\n",
    "Ncrossval = 100\n",
    "Ntest = 50\n",
    "error = 1.0\n",
    "\n",
    "# randomly sample the data\n",
    "np.random.seed(0)\n",
    "x = np.random.random(Ntrain + Ncrossval + Ntest)\n",
    "y = test_func(x, error)\n",
    "\n",
    "# select training set\n",
    "# data is already random, so we can just choose a slice.\n",
    "xtrain = x[:Ntrain]\n",
    "ytrain = y[:Ntrain]\n",
    "\n",
    "# select cross-validation set\n",
    "xcrossval = x[Ntrain:Ntrain + Ncrossval]\n",
    "ycrossval = y[Ntrain:Ntrain + Ncrossval]\n",
    "\n",
    "# select test set\n",
    "xtest = x[Ntrain:-Ntest]\n",
    "ytest = y[Ntrain:-Ntest]\n",
    "\n",
    "pl.scatter(xtrain, ytrain, color='red')\n",
    "pl.scatter(xcrossval, ycrossval, color='blue')"
   ]
  },
  {
   "cell_type": "markdown",
   "metadata": {},
   "source": [
    "In order to quantify the effects of bias and variance and construct\n",
    "the best possible estimator, we will split our training data into\n",
    "three parts: a *training set*, a *cross-validation set*, and a\n",
    "*test set*. As a general rule, the training set should be about\n",
    "60% of the samples, and the cross-validation and test sets should\n",
    "be about 20% each.\n",
    "\n",
    "The general idea is as follows. The model parameters (in our case,\n",
    "the coefficients of the polynomials) are learned using the training\n",
    "set as above. The error is evaluated on the cross-validation set,\n",
    "and the meta-parameters (in our case, the degree of the polynomial)\n",
    "are adjusted so that this cross-validation error is minimized.\n",
    "Finally, the labels are predicted for the test set. These labels\n",
    "are used to evaluate how well the algorithm can be expected to\n",
    "perform on unlabeled data.\n",
    "\n",
    "Why do we need both a cross-validation set and a test set? Many\n",
    "machine learning practitioners use the same set of data as both\n",
    "a cross-validation set and a test set. This is not the best approach,\n",
    "for the same reasons we outlined above. Just as the parameters can\n",
    "be over-fit to the training data, the meta-parameters can be over-fit\n",
    "to the cross-validation data. For this reason, the minimal\n",
    "cross-validation error tends to under-estimate the error expected\n",
    "on a new set of data.\n",
    "\n",
    "The cross-validation error of our polynomial classifier can be visualized by plotting the error as a function of the polynomial degree d. We can do this as follows.  This will spit out warnings about \"poorly conditioned\" polynomials: that is OK for now."
   ]
  },
  {
   "cell_type": "code",
   "execution_count": null,
   "metadata": {
    "collapsed": false
   },
   "outputs": [],
   "source": [
    "degrees = np.arange(1, 21)\n",
    "train_err = np.zeros(len(degrees))\n",
    "crossval_err = np.zeros(len(degrees))\n",
    "test_err = np.zeros(len(degrees))\n",
    "\n",
    "for i, d in enumerate(degrees):\n",
    "    p = np.polyfit(xtrain, ytrain, d)\n",
    "\n",
    "    train_err[i] = compute_error(xtrain, ytrain, p)\n",
    "    crossval_err[i] = compute_error(xcrossval, ycrossval, p)\n",
    "\n",
    "pl.figure()\n",
    "pl.title('Error for 100 Training Points')\n",
    "pl.plot(degrees, crossval_err, lw=2, label = 'cross-validation error')\n",
    "pl.plot(degrees, train_err, lw=2, label = 'training error')\n",
    "pl.plot([0, 20], [error, error], '--k', label='intrinsic error')\n",
    "\n",
    "pl.legend()\n",
    "pl.xlabel('degree of fit')\n",
    "pl.ylabel('rms error')"
   ]
  },
  {
   "cell_type": "markdown",
   "metadata": {},
   "source": [
    "This figure compactly shows the reason that cross-validation is\n",
    "important. On the left side of the plot, we have very low-degree\n",
    "polynomial, which under-fits the data. This leads to a very high\n",
    "error for both the training set and the cross-validation set. On\n",
    "the far right side of the plot, we have a very high degree\n",
    "polynomial, which over-fits the data. This can be seen in the fact\n",
    "that the training error is very low, while the cross-validation\n",
    "error is very high. Plotted for comparison is the intrinsic error\n",
    "(this is the scatter artificially added to the data: click on the\n",
    "above image to see the source code). For this toy dataset,\n",
    "error = 1.0 is the best we can hope to attain. Choosing $d=6$ in\n",
    "this case gets us very close to the optimal error.\n",
    "\n",
    "The astute reader will realize that something is amiss here: in\n",
    "the above plot, $d = 6$ gives the best results. But in the previous\n",
    "plot, we found that $d = 6$ vastly over-fits the data. What’s going\n",
    "on here? The difference is the **number of training points** used.\n",
    "In the previous example, there were only eight training points.\n",
    "In this example, we have 100. As a general rule of thumb, the more\n",
    "training points used, the more complicated model can be used.\n",
    "But how can you determine for a given model whether more training\n",
    "points will be helpful? A useful diagnostic for this are learning curves."
   ]
  },
  {
   "cell_type": "markdown",
   "metadata": {},
   "source": [
    "## Learning Curves"
   ]
  },
  {
   "cell_type": "markdown",
   "metadata": {},
   "source": [
    "A learning curve is a plot of the training and cross-validation\n",
    "error as a function of the number of training points. Note that\n",
    "when we train on a small subset of the training data, the training\n",
    "error is computed using this subset, not the full training set.\n",
    "These plots can give a quantitative view into how beneficial it\n",
    "will be to add training samples."
   ]
  },
  {
   "cell_type": "code",
   "execution_count": null,
   "metadata": {
    "collapsed": false
   },
   "outputs": [],
   "source": [
    "# suppress warnings from Polyfit\n",
    "import warnings\n",
    "warnings.filterwarnings('ignore', message='Polyfit*')\n",
    "\n",
    "def plot_learning_curve(d):\n",
    "    sizes = np.linspace(2, Ntrain, 50).astype(int)\n",
    "    train_err = np.zeros(sizes.shape)\n",
    "    crossval_err = np.zeros(sizes.shape)\n",
    "\n",
    "    for i, size in enumerate(sizes):\n",
    "        p = np.polyfit(xtrain[:size], ytrain[:size], d)\n",
    "        crossval_err[i] = compute_error(xcrossval, ycrossval, p)\n",
    "        train_err[i] = compute_error(xtrain[:size], ytrain[:size], p)\n",
    "\n",
    "    fig = pl.figure()\n",
    "    pl.plot(sizes, crossval_err, lw=2, label='cross-val error')\n",
    "    pl.plot(sizes, train_err, lw=2, label='training error')\n",
    "    pl.plot([0, Ntrain], [error, error], '--k', label='intrinsic error')\n",
    "\n",
    "    pl.xlabel('traning set size')\n",
    "    pl.ylabel('rms error')\n",
    "    \n",
    "    pl.legend(loc = 0)\n",
    "    \n",
    "    pl.ylim(0, 4)\n",
    "    pl.xlim(0, 99)\n",
    "\n",
    "    pl.title('d = %i' % d)"
   ]
  },
  {
   "cell_type": "code",
   "execution_count": null,
   "metadata": {
    "collapsed": false
   },
   "outputs": [],
   "source": [
    "plot_learning_curve(d=1)"
   ]
  },
  {
   "cell_type": "markdown",
   "metadata": {},
   "source": [
    "Here we show the learning curve for $d = 1$. From the above\n",
    "discussion, we know that $d = 1$ is a high-bias estimator which\n",
    "under-fits the data. This is indicated by the fact that both the\n",
    "training and cross-validation errors are very high. If this is\n",
    "the case, adding more training data will not help matters: both\n",
    "lines have converged to a relatively high error."
   ]
  },
  {
   "cell_type": "code",
   "execution_count": null,
   "metadata": {
    "collapsed": false
   },
   "outputs": [],
   "source": [
    "plot_learning_curve(d=20)"
   ]
  },
  {
   "cell_type": "markdown",
   "metadata": {},
   "source": [
    "Here we show the learning curve for $d = 20$. From the above\n",
    "discussion, we know that $d = 20$ is a high-variance estimator\n",
    "which over-fits the data. This is indicated by the fact that the\n",
    "training error is much less than the cross-validation error. As\n",
    "we add more samples to this training set, the training error will\n",
    "continue to climb, while the cross-validation error will continue\n",
    "to decrease, until they meet in the middle. In this case, our\n",
    "intrinsic error was set to 1.0, and we can infer that adding more\n",
    "data will allow the estimator to very closely match the best\n",
    "possible cross-validation error."
   ]
  },
  {
   "cell_type": "code",
   "execution_count": null,
   "metadata": {
    "collapsed": false
   },
   "outputs": [],
   "source": [
    "plot_learning_curve(d=6)"
   ]
  },
  {
   "cell_type": "markdown",
   "metadata": {},
   "source": [
    "For our $d=6$ case, we see that we have more training data than we need.\n",
    "This is not a problem (especially if the algorithm scales well with large $N$),\n",
    "but if our data were expensive to obtain or if the training scales unfavorably\n",
    "with $N$, we could have used a diagram like this to determine this and stop\n",
    "once we had recorded 40-50 training samples."
   ]
  },
  {
   "cell_type": "markdown",
   "metadata": {},
   "source": [
    "## Summary"
   ]
  },
  {
   "cell_type": "markdown",
   "metadata": {},
   "source": [
    "We’ve seen above that an under-performing algorithm can be due\n",
    "to two possible situations: high bias (under-fitting) and high\n",
    "variance (over-fitting). In order to evaluate our algorithm, we\n",
    "set aside a portion of our training data for cross-validation.\n",
    "Using the technique of learning curves, we can train on progressively\n",
    "larger subsets of the data, evaluating the training error and\n",
    "cross-validation error to determine whether our algorithm has\n",
    "high variance or high bias. But what do we do with this information?"
   ]
  },
  {
   "cell_type": "markdown",
   "metadata": {},
   "source": [
    "#### High Bias"
   ]
  },
  {
   "cell_type": "markdown",
   "metadata": {},
   "source": [
    "If our algorithm shows high bias, the following actions might help:\n",
    "\n",
    "- **Add more features**. In our example of predicting home prices,\n",
    "  it may be helpful to make use of information such as the neighborhood\n",
    "  the house is in, the year the house was built, the size of the lot, etc.\n",
    "  Adding these features to the training and test sets can improve\n",
    "  a high-bias estimator\n",
    "- **Use a more sophisticated model**. Adding complexity to the model can\n",
    "  help improve on bias. For a polynomial fit, this can be accomplished\n",
    "  by increasing the degree d. Each learning technique has its own\n",
    "  methods of adding complexity.\n",
    "- **Use fewer samples**. Though this will not improve the classification,\n",
    "  a high-bias algorithm can attain nearly the same error with a smaller\n",
    "  training sample. For algorithms which are computationally expensive,\n",
    "  reducing the training sample size can lead to very large improvements\n",
    "  in speed.\n",
    "- **Decrease regularization**. Regularization is a technique used to impose\n",
    "  simplicity in some machine learning models, by adding a penalty term that\n",
    "  depends on the characteristics of the parameters. If a model has high bias,\n",
    "  decreasing the effect of regularization can lead to better results."
   ]
  },
  {
   "cell_type": "markdown",
   "metadata": {},
   "source": [
    "#### High Variance"
   ]
  },
  {
   "cell_type": "markdown",
   "metadata": {},
   "source": [
    "If our algorithm shows high variance, the following actions might help:\n",
    "\n",
    "- **Use fewer features**. Using a feature selection technique may be\n",
    "  useful, and decrease the over-fitting of the estimator.\n",
    "- **Use more training samples**. Adding training samples can reduce\n",
    "  the effect of over-fitting, and lead to improvements in a high\n",
    "  variance estimator.\n",
    "- **Increase Regularization**. Regularization is designed to prevent\n",
    "  over-fitting. In a high-variance model, increasing regularization\n",
    "  can lead to better results.\n",
    "\n",
    "These choices become very important in real-world situations. For example,\n",
    "due to limited telescope time, astronomers must seek a balance between\n",
    "observing a large number of objects, and observing a large number of\n",
    "features for each object. Determining which is more important for a\n",
    "particular learning task can inform the observing strategy that the\n",
    "astronomer employs."
   ]
  }
 ],
 "metadata": {
  "kernelspec": {
   "display_name": "Python 2",
   "language": "python",
   "name": "python2"
  },
  "language_info": {
   "codemirror_mode": {
    "name": "ipython",
    "version": 2
   },
   "file_extension": ".py",
   "mimetype": "text/x-python",
   "name": "python",
   "nbconvert_exporter": "python",
   "pygments_lexer": "ipython2",
   "version": "2.7.9"
  }
 },
 "nbformat": 4,
 "nbformat_minor": 0
}
