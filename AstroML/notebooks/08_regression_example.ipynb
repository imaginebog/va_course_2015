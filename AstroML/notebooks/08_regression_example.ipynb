{
 "cells": [
  {
   "cell_type": "markdown",
   "metadata": {},
   "source": [
    "# Regression Example"
   ]
  },
  {
   "cell_type": "markdown",
   "metadata": {},
   "source": [
    "You'll need to modify the ``DATA_HOME`` variable to the location of the datasets.\n",
    "\n",
    "In this tutorial we'll use the the colors of 400,000+ galaxies from the Sloan Digital Sky Survey. \n",
    "\n",
    "The data was downloaded with the script fetch_data.py. This script also includes a python implementation of the SQL query used to construct this data. This template can be modified to download more features if desired. "
   ]
  },
  {
   "cell_type": "code",
   "execution_count": null,
   "metadata": {
    "collapsed": false
   },
   "outputs": [],
   "source": [
    "import os\n",
    "DATA_HOME = os.path.abspath('C:/temp/AstroML/data/sdss_photoz/')"
   ]
  },
  {
   "cell_type": "markdown",
   "metadata": {},
   "source": [
    "First we will load this data, shuffle it in preparation for later, and arrange the colors in an array of shape (n_samples, n_features):"
   ]
  },
  {
   "cell_type": "code",
   "execution_count": null,
   "metadata": {
    "collapsed": false
   },
   "outputs": [],
   "source": [
    "import numpy as np\n",
    "data = np.load(os.path.join(DATA_HOME,'sdss_photoz.npy'))"
   ]
  },
  {
   "cell_type": "markdown",
   "metadata": {},
   "source": [
    "The data is in a record array, as in the classification example"
   ]
  },
  {
   "cell_type": "code",
   "execution_count": null,
   "metadata": {
    "collapsed": false
   },
   "outputs": [],
   "source": [
    "print(data.dtype.names)"
   ]
  },
  {
   "cell_type": "markdown",
   "metadata": {},
   "source": [
    "Now we'll set up our data matrix ``X`` and redshift ``z``"
   ]
  },
  {
   "cell_type": "code",
   "execution_count": 43,
   "metadata": {
    "collapsed": false
   },
   "outputs": [],
   "source": [
    "N = len(data)\n",
    "X = np.zeros((N, 4), dtype=np.float32)\n",
    "X[:, 0] = data['u'] - data['g']\n",
    "X[:, 1] = data['g'] - data['r']\n",
    "X[:, 2] = data['r'] - data['i']\n",
    "X[:, 3] = data['i'] - data['z']\n",
    "z = data['redshift']\n",
    "X = np.nan_to_num(X)"
   ]
  },
  {
   "cell_type": "markdown",
   "metadata": {},
   "source": [
    "Next we’ll split the data into two samples: a training sample and a test sample which we’ll use to evaluate our training:"
   ]
  },
  {
   "cell_type": "code",
   "execution_count": 44,
   "metadata": {
    "collapsed": false
   },
   "outputs": [],
   "source": [
    "Ntrain = 3 * N / 4\n",
    "Xtrain = X[:Ntrain]\n",
    "ztrain = z[:Ntrain]\n",
    "Xtest = X[Ntrain:]\n",
    "ztest = z[Ntrain:]"
   ]
  },
  {
   "cell_type": "markdown",
   "metadata": {},
   "source": [
    "Now we’ll use the scikit-learn ``DecisionTreeRegressor`` method\n",
    "to train a model and predict redshifts for the test set based\n",
    "on a 20-level decision tree:"
   ]
  },
  {
   "cell_type": "code",
   "execution_count": 45,
   "metadata": {
    "collapsed": false
   },
   "outputs": [],
   "source": [
    "from sklearn.tree import DecisionTreeRegressor\n",
    "clf = DecisionTreeRegressor(max_depth=20)\n",
    "clf.fit(Xtrain, ztrain)\n",
    "zpred = clf.predict(Xtest)"
   ]
  },
  {
   "cell_type": "markdown",
   "metadata": {},
   "source": [
    "To judge the efficacy of prediction, we can compute the\n",
    "root-mean-square (RMS) difference between the true and predicted values:"
   ]
  },
  {
   "cell_type": "code",
   "execution_count": 46,
   "metadata": {
    "collapsed": false
   },
   "outputs": [
    {
     "name": "stdout",
     "output_type": "stream",
     "text": [
      "nan\n"
     ]
    }
   ],
   "source": [
    "rms = np.sqrt(np.mean((ztest - zpred) ** 2))\n",
    "print rms"
   ]
  },
  {
   "cell_type": "markdown",
   "metadata": {},
   "source": [
    "Our RMS error is about 0.22. This is pretty good for such an unsophisticated\n",
    "learning algorithm, but better algorithms can improve on this. The biggest\n",
    "issue here are the catastrophic errors, where the predicted redshift is\n",
    "extremely far from the prediction:"
   ]
  },
  {
   "cell_type": "code",
   "execution_count": 47,
   "metadata": {
    "collapsed": false
   },
   "outputs": [
    {
     "name": "stdout",
     "output_type": "stream",
     "text": [
      "Number of test samples:        102798\n",
      "Number of catastrophic errors: 0\n"
     ]
    }
   ],
   "source": [
    "print \"Number of test samples:       \", len(ztest)\n",
    "print \"Number of catastrophic errors:\", np.sum(abs(ztest - zpred) > 1)"
   ]
  },
  {
   "cell_type": "markdown",
   "metadata": {},
   "source": [
    "About 1.5% of objects have redshift estimates which are off by greater than 1.\n",
    "This sort of error in redshift determination is very problematic for\n",
    "high-precision cosmological studies. This can be seen in a scatter plot of\n",
    "the predicted redshift versus the true redshift for the test data:"
   ]
  },
  {
   "cell_type": "code",
   "execution_count": 50,
   "metadata": {
    "collapsed": false
   },
   "outputs": [],
   "source": [
    "%matplotlib inline\n",
    "import matplotlib.pyplot as pl"
   ]
  },
  {
   "cell_type": "code",
   "execution_count": 51,
   "metadata": {
    "collapsed": false
   },
   "outputs": [
    {
     "data": {
      "text/plain": [
       "<matplotlib.text.Text at 0x1f2f2208>"
      ]
     },
     "execution_count": 51,
     "metadata": {},
     "output_type": "execute_result"
    },
    {
     "data": {
      "image/png": "[encoded data removed]",
      "text/plain": [
       "<matplotlib.figure.Figure at 0x1ef436a0>"
      ]
     },
     "metadata": {},
     "output_type": "display_data"
    }
   ],
   "source": [
    "ax = pl.axes()\n",
    "\n",
    "pl.scatter(ztest, zpred, c='k', lw=0, s=4)\n",
    "axis_lim = np.array([0, 2.5])\n",
    "\n",
    "# plot the true redshift\n",
    "pl.plot(axis_lim, axis_lim, '--k')\n",
    "\n",
    "# plot +/- the rms\n",
    "pl.plot(axis_lim, axis_lim + rms, '--r')  \n",
    "pl.plot(axis_lim, axis_lim - rms, '--r')\n",
    "pl.xlim(axis_lim)\n",
    "pl.ylim(axis_lim)\n",
    "\n",
    "pl.title('Photo-z: Decision Tree Regression')\n",
    "pl.xlabel(r'$\\mathrm{z_{true}}$', fontsize=14)\n",
    "pl.ylabel(r'$\\mathrm{z_{phot}}$', fontsize=14)"
   ]
  },
  {
   "cell_type": "markdown",
   "metadata": {},
   "source": [
    "The true and predicted redshifts of 102,798 SDSS galaxies, using a simple decision tree regressor. Notice the presece of catastrophic outliers: those galaxies whose predicted redshifts are extremely far from the true value.\n",
    "\n",
    "Later, in Exercise #2, we will attempt to improve on this by optimizing the parameters of the decision tree.\n",
    "\n",
    "In practice, the solutions to the photometric redshift problem can benefit from approaches that use physical intuition as well as machine learning tools. For example, some solutions involve the use of libraries of synthetic galaxy spectra which are known to be representative of the true galaxy distribution. This extra information can be used either directly, in a physically motivated analysis, or can be used to generate a larger suite of artificial training instances for a pure machine learning approach."
   ]
  }
 ],
 "metadata": {
  "kernelspec": {
   "display_name": "Python 2",
   "language": "python",
   "name": "python2"
  },
  "language_info": {
   "codemirror_mode": {
    "name": "ipython",
    "version": 2
   },
   "file_extension": ".py",
   "mimetype": "text/x-python",
   "name": "python",
   "nbconvert_exporter": "python",
   "pygments_lexer": "ipython2",
   "version": "2.7.9"
  }
 },
 "nbformat": 4,
 "nbformat_minor": 0
}
